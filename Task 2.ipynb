{
 "cells": [
  {
   "cell_type": "markdown",
   "id": "08b53b33",
   "metadata": {},
   "source": [
    "### Q1.\n",
    "\n",
    "ineuron \n",
    "ineuron ineuron \n",
    "ineuron ineuron ineuron \n",
    "ineuron ineuron ineuron ineuron "
   ]
  },
  {
   "cell_type": "code",
   "execution_count": 1,
   "id": "bd39bffc",
   "metadata": {},
   "outputs": [
    {
     "name": "stdout",
     "output_type": "stream",
     "text": [
      "ineuron \n",
      "\n",
      "ineuron ineuron \n",
      "\n",
      "ineuron ineuron ineuron \n",
      "\n",
      "ineuron ineuron ineuron ineuron \n",
      "\n"
     ]
    }
   ],
   "source": [
    "for i in range(4):\n",
    "    for j in range (i+1):\n",
    "        print (\"ineuron\",end=\" \")\n",
    "    print (\"\\n\")"
   ]
  },
  {
   "cell_type": "markdown",
   "id": "04b0f1af",
   "metadata": {},
   "source": [
    "### Q2. for star pattern\n",
    "\n",
    "      ineuron       \n",
    "  ineuron ineuron   \n",
    "ineuron ineuron ineuron \n",
    "  ineuron ineuron   \n",
    "      ineuron       "
   ]
  },
  {
   "cell_type": "code",
   "execution_count": 2,
   "id": "3864f759",
   "metadata": {},
   "outputs": [
    {
     "name": "stdout",
     "output_type": "stream",
     "text": [
      "5\n",
      "      ineuron       \n",
      "  ineuron ineuron   \n",
      "ineuron ineuron ineuron \n",
      "  ineuron ineuron   \n",
      "      ineuron       \n"
     ]
    }
   ],
   "source": [
    "n=int(input())\n",
    "s=\"ineuron \"\n",
    "for i in range(n):\n",
    "    if i ==0 :\n",
    "        print (s.center(n*4,' '))\n",
    "    elif n/i > 2:\n",
    "        print ((s*(i+1)).center(n*4,\" \"))\n",
    "    elif n/i == 2:\n",
    "        print ((s*i).center(n*4,\" \"))\n",
    "    elif n/i < 2:\n",
    "        print ((s*(n-i)).center(n*4,\" \"))"
   ]
  },
  {
   "cell_type": "code",
   "execution_count": 3,
   "id": "802b6ab9",
   "metadata": {},
   "outputs": [],
   "source": [
    "l = [[1,2,3,4], (2,3,4,5,6),(3,4,5,6,7), set([23,4,5,45,4,4,5,45,45,4,5]),\n",
    "     {'k1':\"sudh\", 'k2':\"ineuron\", 'k3':\"kumar\", 3:6,7:8}, [\"ineuron\", \"data science\"]]"
   ]
  },
  {
   "cell_type": "markdown",
   "id": "1ad01f75",
   "metadata": {},
   "source": [
    "### Q3. Try to extract all the list entity"
   ]
  },
  {
   "cell_type": "code",
   "execution_count": 4,
   "id": "bf5f8a32",
   "metadata": {},
   "outputs": [
    {
     "name": "stdout",
     "output_type": "stream",
     "text": [
      "[1, 2, 3, 4]\n",
      "['ineuron', 'data science']\n"
     ]
    }
   ],
   "source": [
    "for i in l:\n",
    "    if type (i)== list:\n",
    "        print (i)"
   ]
  },
  {
   "cell_type": "markdown",
   "id": "7fb83330",
   "metadata": {},
   "source": [
    "### Q4. Try to extract all the dict entity"
   ]
  },
  {
   "cell_type": "code",
   "execution_count": 5,
   "id": "6ea77d48",
   "metadata": {},
   "outputs": [
    {
     "name": "stdout",
     "output_type": "stream",
     "text": [
      "{'k1': 'sudh', 'k2': 'ineuron', 'k3': 'kumar', 3: 6, 7: 8}\n"
     ]
    }
   ],
   "source": [
    "for i in l:\n",
    "    if type (i)==dict:\n",
    "        print (i)"
   ]
  },
  {
   "cell_type": "markdown",
   "id": "1c1823b4",
   "metadata": {},
   "source": [
    "### Q5. Try to extract all the tuple entity"
   ]
  },
  {
   "cell_type": "code",
   "execution_count": 6,
   "id": "c305fc58",
   "metadata": {},
   "outputs": [
    {
     "name": "stdout",
     "output_type": "stream",
     "text": [
      "(2, 3, 4, 5, 6)\n",
      "(3, 4, 5, 6, 7)\n"
     ]
    }
   ],
   "source": [
    "for i in l:\n",
    "    if type (i)==tuple:\n",
    "        print (i)"
   ]
  },
  {
   "cell_type": "markdown",
   "id": "27d83d0b",
   "metadata": {},
   "source": [
    "### Q6. Try to extract all the numerical data it may be a part of dict key and values"
   ]
  },
  {
   "cell_type": "code",
   "execution_count": 7,
   "id": "3aac2fda",
   "metadata": {},
   "outputs": [
    {
     "name": "stdout",
     "output_type": "stream",
     "text": [
      "1\n",
      "2\n",
      "3\n",
      "4\n",
      "2\n",
      "3\n",
      "4\n",
      "5\n",
      "6\n",
      "3\n",
      "4\n",
      "5\n",
      "6\n",
      "7\n",
      "3\n",
      "7\n",
      "6\n",
      "8\n",
      "45\n",
      "4\n",
      "5\n",
      "23\n"
     ]
    }
   ],
   "source": [
    "for i in l:\n",
    "    if type (i)== list:\n",
    "        for j in i:\n",
    "            if type(j)==int:\n",
    "                print(j)\n",
    "    elif type (i)== tuple:\n",
    "        for k in i:\n",
    "            if type (k)==int:\n",
    "                print(k)\n",
    "    elif type(i)==dict:\n",
    "        l5=(i.keys())\n",
    "        l6=(i.values())\n",
    "        for m in l5:\n",
    "            if type (m)==int:\n",
    "                print(m)\n",
    "        for n in l6:\n",
    "            if type (n)==int:\n",
    "                print(n)\n",
    "        for i in l:\n",
    "            if type (i)==set:\n",
    "                for j in i:\n",
    "                    if type (j)==int:\n",
    "                        print(j)"
   ]
  },
  {
   "cell_type": "markdown",
   "id": "7244a17f",
   "metadata": {},
   "source": [
    "### Q7. Try to give summation of all numeric data"
   ]
  },
  {
   "cell_type": "code",
   "execution_count": 8,
   "id": "6fe993a5",
   "metadata": {},
   "outputs": [
    {
     "name": "stdout",
     "output_type": "stream",
     "text": [
      "156\n"
     ]
    }
   ],
   "source": [
    "count=0\n",
    "for i in l:\n",
    "    if type (i)== list:\n",
    "        for j in i:\n",
    "            if type(j)==int:\n",
    "                count=count+j\n",
    "    elif type (i)== tuple:\n",
    "        for k in i:\n",
    "            if type (k)==int:\n",
    "                count=count+k\n",
    "    elif type(i)==dict:\n",
    "        l5=(i.keys())\n",
    "        l6=(i.values())\n",
    "        for m in l5:\n",
    "            if type (m)==int:\n",
    "                count=count+m\n",
    "        for n in l6:\n",
    "            if type (n)==int:\n",
    "                count=count+n\n",
    "        for i in l:\n",
    "            if type (i)==set:\n",
    "                for j in i:\n",
    "                    if type (j)==int:\n",
    "                        count=count+j\n",
    "print (count)"
   ]
  },
  {
   "cell_type": "markdown",
   "id": "4b14dd80",
   "metadata": {},
   "source": [
    "### Q8. Try to filter out all the odd values out all numeric data which is a part of a list"
   ]
  },
  {
   "cell_type": "code",
   "execution_count": 9,
   "id": "484e9a13",
   "metadata": {},
   "outputs": [
    {
     "name": "stdout",
     "output_type": "stream",
     "text": [
      "1\n",
      "3\n"
     ]
    }
   ],
   "source": [
    "l6=[]\n",
    "for i in l:\n",
    "    if type (i)==list:\n",
    "        for j in i:\n",
    "            if type(j)==int:\n",
    "                if j %2 !=0:\n",
    "                    print(j)"
   ]
  },
  {
   "cell_type": "markdown",
   "id": "e5cc4e37",
   "metadata": {},
   "source": [
    "### Q9. Try to extract \"ineuron\" out of this data"
   ]
  },
  {
   "cell_type": "code",
   "execution_count": 10,
   "id": "32d9d1fd",
   "metadata": {},
   "outputs": [
    {
     "name": "stdout",
     "output_type": "stream",
     "text": [
      "ineuron\n",
      "ineuron\n"
     ]
    }
   ],
   "source": [
    "for i in l:\n",
    "    if type(i)==list:\n",
    "        for j in i:\n",
    "            if j == \"ineuron\":\n",
    "                print(j)\n",
    "    if type(i)== dict:\n",
    "        for k in i:\n",
    "            if i[k]==\"ineuron\":\n",
    "                print(i[k])"
   ]
  },
  {
   "cell_type": "markdown",
   "id": "18fd1ae2",
   "metadata": {},
   "source": [
    "### Q10. Try to find out a number of occurances of all the data"
   ]
  },
  {
   "cell_type": "code",
   "execution_count": 11,
   "id": "24bc0ca8",
   "metadata": {},
   "outputs": [
    {
     "name": "stdout",
     "output_type": "stream",
     "text": [
      "1 : 1\n",
      "2 : 2\n",
      "3 : 4\n",
      "4 : 4\n",
      "5 : 3\n",
      "6 : 3\n",
      "7 : 2\n",
      "k2 : 1\n",
      "k3 : 1\n",
      "8 : 1\n",
      "kumar : 1\n",
      "sudh : 1\n",
      "45 : 1\n",
      "data science : 1\n",
      "ineuron : 2\n",
      "23 : 1\n",
      "k1 : 1\n"
     ]
    }
   ],
   "source": [
    "l9=[]\n",
    "for i in l:\n",
    "    if type (i) != dict:\n",
    "        for j in i :\n",
    "            l9.append(j)\n",
    "    elif type (i) == dict:\n",
    "        for k in i:\n",
    "            l9.append(k)\n",
    "            l9.append(i[k])\n",
    "for i in set(l9):\n",
    "    print (i,\":\",l9.count(i))"
   ]
  },
  {
   "cell_type": "markdown",
   "id": "6c0bdbe2",
   "metadata": {},
   "source": [
    "### Q11. Try to find out number of keys in dict element"
   ]
  },
  {
   "cell_type": "code",
   "execution_count": 12,
   "id": "b2500ebf",
   "metadata": {},
   "outputs": [
    {
     "name": "stdout",
     "output_type": "stream",
     "text": [
      "number of keys in dict are  5\n"
     ]
    }
   ],
   "source": [
    "l10=[]\n",
    "for i in l:\n",
    "    if type (i)==dict:\n",
    "        for j in i:\n",
    "            l10.append(j)\n",
    "print (\"number of keys in dict are \",len(l10))"
   ]
  },
  {
   "cell_type": "code",
   "execution_count": 13,
   "id": "4fb1b89a",
   "metadata": {},
   "outputs": [
    {
     "data": {
      "text/plain": [
       "['k1', 'k2', 'k3', 3, 7]"
      ]
     },
     "execution_count": 13,
     "metadata": {},
     "output_type": "execute_result"
    }
   ],
   "source": [
    "l10"
   ]
  },
  {
   "cell_type": "markdown",
   "id": "76dda30a",
   "metadata": {},
   "source": [
    "### Q12. Try to filter out all the string data"
   ]
  },
  {
   "cell_type": "code",
   "execution_count": 14,
   "id": "de1e43a3",
   "metadata": {},
   "outputs": [
    {
     "name": "stdout",
     "output_type": "stream",
     "text": [
      "k1\n",
      "sudh\n",
      "k2\n",
      "ineuron\n",
      "k3\n",
      "kumar\n",
      "ineuron\n",
      "data science\n"
     ]
    }
   ],
   "source": [
    "for i in l:\n",
    "    if type(i)== dict:\n",
    "        for j in i:\n",
    "            if type (j)==str or type(i[j])==str:\n",
    "                print(j)\n",
    "                print(i[j])\n",
    "    elif type (i)==list:\n",
    "        for k in i :\n",
    "            if type (k)==str:\n",
    "                print(k)\n",
    "                "
   ]
  },
  {
   "cell_type": "markdown",
   "id": "faefd840",
   "metadata": {},
   "source": [
    "### Q13. Try to find out alphanum in data"
   ]
  },
  {
   "cell_type": "code",
   "execution_count": 15,
   "id": "261148bf",
   "metadata": {},
   "outputs": [
    {
     "name": "stdout",
     "output_type": "stream",
     "text": [
      "k1\n",
      "sudh\n",
      "k2\n",
      "ineuron\n",
      "k3\n",
      "kumar\n",
      "ineuron\n",
      "data science\n"
     ]
    }
   ],
   "source": [
    "for i in l:\n",
    "    if type(i)==list:\n",
    "        for j in i:\n",
    "            if type(j)==str:\n",
    "                if j.isalnum:\n",
    "                    print (j)\n",
    "    elif type(i)==dict:\n",
    "        for k in i:\n",
    "            if type(k) == str:\n",
    "                if k.isalnum:\n",
    "                    print(k)\n",
    "            if type(i[k])==str:\n",
    "                if (i[k]).isalnum:\n",
    "                    print(i[k])"
   ]
  },
  {
   "cell_type": "markdown",
   "id": "048d6b96",
   "metadata": {},
   "source": [
    "### Q14. Try to find out multiplication of all numeric value in the individual coolection inside dataset"
   ]
  },
  {
   "cell_type": "code",
   "execution_count": 16,
   "id": "8cae7426",
   "metadata": {},
   "outputs": [
    {
     "name": "stdout",
     "output_type": "stream",
     "text": [
      "24\n",
      "720\n",
      "2520\n",
      "20700\n",
      "1008\n",
      "1\n"
     ]
    }
   ],
   "source": [
    "for i in l:\n",
    "    a=1\n",
    "    if type(i)==list:\n",
    "        for j in i:\n",
    "            if type (j)==int:\n",
    "                a=j*a\n",
    "    if type(i)==tuple:\n",
    "        for k in i:\n",
    "            if type (k)==int:\n",
    "                a=k*a\n",
    "    if type(i)==set:\n",
    "        for m in i:\n",
    "            if type (m)==int:\n",
    "                a=m*a\n",
    "    if type(i)==dict:\n",
    "        for n in i:\n",
    "            if type(n)==int:\n",
    "                a=n*a\n",
    "            if type(i[n])==int:\n",
    "                a=(i[n])*a\n",
    "                \n",
    "    print (a)"
   ]
  },
  {
   "cell_type": "code",
   "execution_count": 17,
   "id": "9eeb4316",
   "metadata": {},
   "outputs": [
    {
     "name": "stdout",
     "output_type": "stream",
     "text": [
      "24\n",
      "720\n",
      "2520\n",
      "20700\n",
      "1008\n",
      "1\n"
     ]
    }
   ],
   "source": [
    "for i in l:\n",
    "    a=1\n",
    "    if type(i) not in (str,float,dict):\n",
    "        for j in i:\n",
    "            if type (j)==int:\n",
    "                a=j*a\n",
    "    if type(i)==dict:\n",
    "        for n in i:\n",
    "            if type(n)==int:\n",
    "                a=n*a\n",
    "            if type(i[n])==int:\n",
    "                a=(i[n])*a\n",
    "                \n",
    "    print (a)"
   ]
  },
  {
   "cell_type": "markdown",
   "id": "da699b38",
   "metadata": {},
   "source": [
    "###  Q15. Try to unwrape all the coolection inside collection and create a flat list"
   ]
  },
  {
   "cell_type": "code",
   "execution_count": 18,
   "id": "76712e49",
   "metadata": {},
   "outputs": [],
   "source": [
    "l9=[]\n",
    "for i in l:\n",
    "    if type (i) != dict:\n",
    "        for j in i :\n",
    "            l9.append(j)\n",
    "    elif type (i) == dict:\n",
    "        for k in i:\n",
    "            l9.append(k)\n",
    "            l9.append(i[k])"
   ]
  },
  {
   "cell_type": "code",
   "execution_count": 19,
   "id": "205011b5",
   "metadata": {},
   "outputs": [],
   "source": [
    "l15=[]\n",
    "for i in l:\n",
    "    if type (i) !=dict:\n",
    "        l15.extend(i)\n",
    "    elif type(i) ==dict:\n",
    "        l15.extend(i.keys())\n",
    "        l15.extend(i.values())"
   ]
  },
  {
   "cell_type": "code",
   "execution_count": 20,
   "id": "2b5c25e7",
   "metadata": {},
   "outputs": [
    {
     "data": {
      "text/plain": [
       "[1,\n",
       " 2,\n",
       " 3,\n",
       " 4,\n",
       " 2,\n",
       " 3,\n",
       " 4,\n",
       " 5,\n",
       " 6,\n",
       " 3,\n",
       " 4,\n",
       " 5,\n",
       " 6,\n",
       " 7,\n",
       " 45,\n",
       " 4,\n",
       " 5,\n",
       " 23,\n",
       " 'k1',\n",
       " 'sudh',\n",
       " 'k2',\n",
       " 'ineuron',\n",
       " 'k3',\n",
       " 'kumar',\n",
       " 3,\n",
       " 6,\n",
       " 7,\n",
       " 8,\n",
       " 'ineuron',\n",
       " 'data science']"
      ]
     },
     "execution_count": 20,
     "metadata": {},
     "output_type": "execute_result"
    }
   ],
   "source": [
    "l9"
   ]
  },
  {
   "cell_type": "code",
   "execution_count": 21,
   "id": "dee68e4b",
   "metadata": {},
   "outputs": [
    {
     "data": {
      "text/plain": [
       "[1,\n",
       " 2,\n",
       " 3,\n",
       " 4,\n",
       " 2,\n",
       " 3,\n",
       " 4,\n",
       " 5,\n",
       " 6,\n",
       " 3,\n",
       " 4,\n",
       " 5,\n",
       " 6,\n",
       " 7,\n",
       " 45,\n",
       " 4,\n",
       " 5,\n",
       " 23,\n",
       " 'k1',\n",
       " 'k2',\n",
       " 'k3',\n",
       " 3,\n",
       " 7,\n",
       " 'sudh',\n",
       " 'ineuron',\n",
       " 'kumar',\n",
       " 6,\n",
       " 8,\n",
       " 'ineuron',\n",
       " 'data science']"
      ]
     },
     "execution_count": 21,
     "metadata": {},
     "output_type": "execute_result"
    }
   ],
   "source": [
    "l15"
   ]
  },
  {
   "cell_type": "code",
   "execution_count": null,
   "id": "807690cb",
   "metadata": {},
   "outputs": [],
   "source": []
  }
 ],
 "metadata": {
  "kernelspec": {
   "display_name": "Python 3 (ipykernel)",
   "language": "python",
   "name": "python3"
  },
  "language_info": {
   "codemirror_mode": {
    "name": "ipython",
    "version": 3
   },
   "file_extension": ".py",
   "mimetype": "text/x-python",
   "name": "python",
   "nbconvert_exporter": "python",
   "pygments_lexer": "ipython3",
   "version": "3.9.12"
  }
 },
 "nbformat": 4,
 "nbformat_minor": 5
}
