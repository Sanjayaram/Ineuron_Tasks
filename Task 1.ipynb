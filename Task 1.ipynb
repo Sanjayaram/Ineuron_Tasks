{
 "cells": [
  {
   "cell_type": "markdown",
   "id": "912db38d",
   "metadata": {},
   "source": [
    "### Q1. Try to extract data from index one to index 300 with a jump of 3"
   ]
  },
  {
   "cell_type": "code",
   "execution_count": 71,
   "id": "5b8bfc78",
   "metadata": {},
   "outputs": [],
   "source": [
    "s = \"this is My First Python programming class and i am learNING python string and its function\""
   ]
  },
  {
   "cell_type": "code",
   "execution_count": 72,
   "id": "593af889",
   "metadata": {},
   "outputs": [
    {
     "data": {
      "text/plain": [
       "'h   r tnrrmglsnimeNGyosi dtfco'"
      ]
     },
     "execution_count": 72,
     "metadata": {},
     "output_type": "execute_result"
    }
   ],
   "source": [
    "s[1:300:3]"
   ]
  },
  {
   "cell_type": "markdown",
   "id": "b5364a13",
   "metadata": {},
   "source": [
    "### Q2. Try to reverse a string without using reverse function"
   ]
  },
  {
   "cell_type": "code",
   "execution_count": 7,
   "id": "d6ec25b2",
   "metadata": {},
   "outputs": [
    {
     "data": {
      "text/plain": [
       "'noitcnuf sti dna gnirts nohtyp GNINrael ma i dna ssalc gnimmargorp nohtyP tsriF yM si siht'"
      ]
     },
     "execution_count": 7,
     "metadata": {},
     "output_type": "execute_result"
    }
   ],
   "source": [
    "s[::-1]"
   ]
  },
  {
   "cell_type": "markdown",
   "id": "40b67f3c",
   "metadata": {},
   "source": [
    "### Q3. Try to split a string after conversion of entire string in uppercase"
   ]
  },
  {
   "cell_type": "code",
   "execution_count": 12,
   "id": "4ee64657",
   "metadata": {},
   "outputs": [
    {
     "data": {
      "text/plain": [
       "['THIS',\n",
       " 'IS',\n",
       " 'MY',\n",
       " 'FIRST',\n",
       " 'PYTHON',\n",
       " 'PROGRAMMING',\n",
       " 'CLASS',\n",
       " 'AND',\n",
       " 'I',\n",
       " 'AM',\n",
       " 'LEARNING',\n",
       " 'PYTHON',\n",
       " 'STRING',\n",
       " 'AND',\n",
       " 'ITS',\n",
       " 'FUNCTION']"
      ]
     },
     "execution_count": 12,
     "metadata": {},
     "output_type": "execute_result"
    }
   ],
   "source": [
    "a=s.upper()\n",
    "a.split()"
   ]
  },
  {
   "cell_type": "markdown",
   "id": "76ce163e",
   "metadata": {},
   "source": [
    "### Q4. Try to convert the whole string into lower case"
   ]
  },
  {
   "cell_type": "code",
   "execution_count": 13,
   "id": "1ae48c4d",
   "metadata": {},
   "outputs": [
    {
     "data": {
      "text/plain": [
       "'this is my first python programming class and i am learning python string and its function'"
      ]
     },
     "execution_count": 13,
     "metadata": {},
     "output_type": "execute_result"
    }
   ],
   "source": [
    "s.lower()"
   ]
  },
  {
   "cell_type": "markdown",
   "id": "8de58ea6",
   "metadata": {},
   "source": [
    "### Q5. Try to capitalize the whole string"
   ]
  },
  {
   "cell_type": "code",
   "execution_count": 14,
   "id": "dc06b3d8",
   "metadata": {},
   "outputs": [
    {
     "data": {
      "text/plain": [
       "'This is my first python programming class and i am learning python string and its function'"
      ]
     },
     "execution_count": 14,
     "metadata": {},
     "output_type": "execute_result"
    }
   ],
   "source": [
    "s.capitalize()"
   ]
  },
  {
   "cell_type": "markdown",
   "id": "72531343",
   "metadata": {},
   "source": [
    "### Q6. Write a diference between isalnum() and isalpha()"
   ]
  },
  {
   "cell_type": "code",
   "execution_count": 29,
   "id": "0ffa126f",
   "metadata": {},
   "outputs": [],
   "source": [
    "j=\"sa2\"\n",
    "k=\"sa\"\n",
    "l=\"5\""
   ]
  },
  {
   "cell_type": "code",
   "execution_count": 22,
   "id": "783ef594",
   "metadata": {},
   "outputs": [
    {
     "data": {
      "text/plain": [
       "False"
      ]
     },
     "execution_count": 22,
     "metadata": {},
     "output_type": "execute_result"
    }
   ],
   "source": [
    "j.isalpha()"
   ]
  },
  {
   "cell_type": "code",
   "execution_count": 23,
   "id": "2c0d939c",
   "metadata": {},
   "outputs": [
    {
     "data": {
      "text/plain": [
       "True"
      ]
     },
     "execution_count": 23,
     "metadata": {},
     "output_type": "execute_result"
    }
   ],
   "source": [
    "j.isalnum()"
   ]
  },
  {
   "cell_type": "code",
   "execution_count": 24,
   "id": "e1fc68c7",
   "metadata": {},
   "outputs": [
    {
     "data": {
      "text/plain": [
       "True"
      ]
     },
     "execution_count": 24,
     "metadata": {},
     "output_type": "execute_result"
    }
   ],
   "source": [
    "k.isalnum()"
   ]
  },
  {
   "cell_type": "code",
   "execution_count": 27,
   "id": "c1415ce4",
   "metadata": {},
   "outputs": [
    {
     "data": {
      "text/plain": [
       "False"
      ]
     },
     "execution_count": 27,
     "metadata": {},
     "output_type": "execute_result"
    }
   ],
   "source": [
    "j.isnumeric()"
   ]
  },
  {
   "cell_type": "code",
   "execution_count": 30,
   "id": "b1b7427b",
   "metadata": {},
   "outputs": [
    {
     "data": {
      "text/plain": [
       "True"
      ]
     },
     "execution_count": 30,
     "metadata": {},
     "output_type": "execute_result"
    }
   ],
   "source": [
    "l.isalnum()"
   ]
  },
  {
   "cell_type": "markdown",
   "id": "4dbea4a8",
   "metadata": {},
   "source": [
    "We have taken an example of string contining alpha numeric.\n",
    "\n",
    "The above sting contains both alphabets and number.\n",
    "For isalpha will return True only when it contains alphabets.\n",
    "For isalnum will return True if it contains either alphabet or number or both."
   ]
  },
  {
   "cell_type": "markdown",
   "id": "98c5b5c2",
   "metadata": {},
   "source": [
    "### Q7. Try to give an example of expand tab"
   ]
  },
  {
   "cell_type": "code",
   "execution_count": 35,
   "id": "94a0d212",
   "metadata": {},
   "outputs": [],
   "source": [
    "b=\"hi there\\t how are you\\t hope you are doing well\""
   ]
  },
  {
   "cell_type": "code",
   "execution_count": 36,
   "id": "29ff4d03",
   "metadata": {},
   "outputs": [
    {
     "data": {
      "text/plain": [
       "'hi there         how are you     hope you are doing well'"
      ]
     },
     "execution_count": 36,
     "metadata": {},
     "output_type": "execute_result"
    }
   ],
   "source": [
    "b.expandtabs()"
   ]
  },
  {
   "cell_type": "markdown",
   "id": "b4a4abf8",
   "metadata": {},
   "source": [
    "### Q8. Give an example of strip , lstrip and rstrip"
   ]
  },
  {
   "cell_type": "code",
   "execution_count": 40,
   "id": "689df67e",
   "metadata": {},
   "outputs": [],
   "source": [
    "c= \"    hello    world        \""
   ]
  },
  {
   "cell_type": "code",
   "execution_count": 41,
   "id": "e1dffc9b",
   "metadata": {},
   "outputs": [
    {
     "data": {
      "text/plain": [
       "'hello    world        '"
      ]
     },
     "execution_count": 41,
     "metadata": {},
     "output_type": "execute_result"
    }
   ],
   "source": [
    "c.lstrip()"
   ]
  },
  {
   "cell_type": "markdown",
   "id": "0ac36713",
   "metadata": {},
   "source": [
    "removes space on the left side inside the string"
   ]
  },
  {
   "cell_type": "code",
   "execution_count": 42,
   "id": "136ec946",
   "metadata": {},
   "outputs": [
    {
     "data": {
      "text/plain": [
       "'    hello    world'"
      ]
     },
     "execution_count": 42,
     "metadata": {},
     "output_type": "execute_result"
    }
   ],
   "source": [
    "c.rstrip()"
   ]
  },
  {
   "cell_type": "markdown",
   "id": "549c229e",
   "metadata": {},
   "source": [
    "removes space on the right side inside the string"
   ]
  },
  {
   "cell_type": "code",
   "execution_count": 43,
   "id": "17d0f6e6",
   "metadata": {},
   "outputs": [
    {
     "data": {
      "text/plain": [
       "'hello    world'"
      ]
     },
     "execution_count": 43,
     "metadata": {},
     "output_type": "execute_result"
    }
   ],
   "source": [
    "c.strip()"
   ]
  },
  {
   "cell_type": "markdown",
   "id": "b32fa883",
   "metadata": {},
   "source": [
    "removes space both right and left side inside the string, but not removes space in between the words."
   ]
  },
  {
   "cell_type": "markdown",
   "id": "2ec7a514",
   "metadata": {},
   "source": [
    "### Q9. Replace a string charecter by another charecter by taking your own example"
   ]
  },
  {
   "cell_type": "code",
   "execution_count": 53,
   "id": "e6c3e9ba",
   "metadata": {},
   "outputs": [],
   "source": [
    "d=\"i am santosh\""
   ]
  },
  {
   "cell_type": "code",
   "execution_count": 55,
   "id": "b52c7a96",
   "metadata": {},
   "outputs": [
    {
     "data": {
      "text/plain": [
       "'who are you'"
      ]
     },
     "execution_count": 55,
     "metadata": {},
     "output_type": "execute_result"
    }
   ],
   "source": [
    "d.replace(\"i am santosh\",\"who are you\")"
   ]
  },
  {
   "cell_type": "markdown",
   "id": "6b5fdb3c",
   "metadata": {},
   "source": [
    "### Q10. Try to give a defination of string center function with an example"
   ]
  },
  {
   "cell_type": "code",
   "execution_count": 61,
   "id": "24985f07",
   "metadata": {},
   "outputs": [],
   "source": [
    "e=\"sudhanshu\""
   ]
  },
  {
   "cell_type": "code",
   "execution_count": 62,
   "id": "6c38e4be",
   "metadata": {},
   "outputs": [
    {
     "data": {
      "text/plain": [
       "'#sudhanshu#'"
      ]
     },
     "execution_count": 62,
     "metadata": {},
     "output_type": "execute_result"
    }
   ],
   "source": [
    "e.center(11,\"#\")"
   ]
  },
  {
   "cell_type": "code",
   "execution_count": 69,
   "id": "3fa0948d",
   "metadata": {},
   "outputs": [
    {
     "data": {
      "text/plain": [
       "' sudhanshu '"
      ]
     },
     "execution_count": 69,
     "metadata": {},
     "output_type": "execute_result"
    }
   ],
   "source": [
    "e.center(11,\" \")"
   ]
  },
  {
   "cell_type": "code",
   "execution_count": 70,
   "id": "5e85fb62",
   "metadata": {},
   "outputs": [
    {
     "data": {
      "text/plain": [
       "'asudhanshua'"
      ]
     },
     "execution_count": 70,
     "metadata": {},
     "output_type": "execute_result"
    }
   ],
   "source": [
    "e.center(11,\"a\")"
   ]
  },
  {
   "cell_type": "markdown",
   "id": "b92e7dae",
   "metadata": {},
   "source": [
    "In the above examples when we use center function, the word \"sudhanshu\" is getting at the center position.\n",
    "The number of space inside the string including alphabets is given 11, so we got ' sudhanshu '(one space to the right and one space to the left with 9 letters(sudhanshu) at the center.\n",
    "This space can be replaced with anyother letter or symbol.\n",
    "Therefore string center function gives us the words in the center in mentioned number of space and also we can mention any symbol or letters, to fill in place of space to the right and left side of the word."
   ]
  },
  {
   "cell_type": "markdown",
   "id": "8e8dcf2e",
   "metadata": {},
   "source": [
    "### Q11. Write your own definition of compiler and interpreter without copy paste form internet in your own language"
   ]
  },
  {
   "cell_type": "markdown",
   "id": "51e20146",
   "metadata": {},
   "source": [
    "Compiler and interpreter are the one which takes Source code(high level language) that can be understood by humans to low level language machine codes.\n",
    "\n",
    "compiler runs all the code at once and check for errors, limits, ranges etc.. at once, which takes a lot for time for processing and also takes lot of memory spcae in CPU. It as a a low speed because of complier going thruough entire program and then it converts the source code to object code and then transalates to machine code.\n",
    "\n",
    "Interpreter runs code one statement at a time, it is genrally faster compared to compiler and it dose not convert source code code to object code. Due to this it is more efficient and CPU utilization is less.\n"
   ]
  },
  {
   "cell_type": "markdown",
   "id": "05f4b099",
   "metadata": {},
   "source": [
    "### Python is a interpreted of compiled language give a clear ans with your understanding"
   ]
  },
  {
   "cell_type": "markdown",
   "id": "bc23a5e1",
   "metadata": {},
   "source": [
    "The python program is complied and then interpreted. The compilation part os hidden from the programmer.The compilation part is done first when we execute our code and this will generate byte code and internally this byte code gets converted by the python virtual machine(p.v.m) according to the underlying platform(machine+operating system)."
   ]
  },
  {
   "cell_type": "markdown",
   "id": "c960bd18",
   "metadata": {},
   "source": [
    "### Try to write a usecase of python with your understanding ."
   ]
  },
  {
   "cell_type": "code",
   "execution_count": null,
   "id": "3c1aa197",
   "metadata": {},
   "outputs": [],
   "source": [
    "1.AI applications\n",
    "2.Data science\n",
    "3.software development\n",
    "4.Automations\n",
    "5.Web applications"
   ]
  },
  {
   "cell_type": "code",
   "execution_count": null,
   "id": "f38d531d",
   "metadata": {},
   "outputs": [],
   "source": []
  },
  {
   "cell_type": "code",
   "execution_count": null,
   "id": "2e345e40",
   "metadata": {},
   "outputs": [],
   "source": []
  }
 ],
 "metadata": {
  "kernelspec": {
   "display_name": "Python 3 (ipykernel)",
   "language": "python",
   "name": "python3"
  },
  "language_info": {
   "codemirror_mode": {
    "name": "ipython",
    "version": 3
   },
   "file_extension": ".py",
   "mimetype": "text/x-python",
   "name": "python",
   "nbconvert_exporter": "python",
   "pygments_lexer": "ipython3",
   "version": "3.9.12"
  }
 },
 "nbformat": 4,
 "nbformat_minor": 5
}
