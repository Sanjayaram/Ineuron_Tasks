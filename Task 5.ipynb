{
 "cells": [
  {
   "cell_type": "markdown",
   "id": "6f11b344",
   "metadata": {},
   "source": [
    "### Q1 : Try to print a prime number in between 1 to 1000"
   ]
  },
  {
   "cell_type": "code",
   "execution_count": 1,
   "id": "cbfbf475",
   "metadata": {},
   "outputs": [
    {
     "name": "stdout",
     "output_type": "stream",
     "text": [
      "[1, 2, 3, 5, 7, 11, 13, 17, 19, 23, 29, 31, 37, 41, 43, 47, 53, 59, 61, 67, 71, 73, 79, 83, 89, 97, 101, 103, 107, 109, 113, 127, 131, 137, 139, 149, 151, 157, 163, 167, 173, 179, 181, 191, 193, 197, 199, 211, 223, 227, 229, 233, 239, 241, 251, 257, 263, 269, 271, 277, 281, 283, 293, 307, 311, 313, 317, 331, 337, 347, 349, 353, 359, 367, 373, 379, 383, 389, 397, 401, 409, 419, 421, 431, 433, 439, 443, 449, 457, 461, 463, 467, 479, 487, 491, 499, 503, 509, 521, 523, 541, 547, 557, 563, 569, 571, 577, 587, 593, 599, 601, 607, 613, 617, 619, 631, 641, 643, 647, 653, 659, 661, 673, 677, 683, 691, 701, 709, 719, 727, 733, 739, 743, 751, 757, 761, 769, 773, 787, 797, 809, 811, 821, 823, 827, 829, 839, 853, 857, 859, 863, 877, 881, 883, 887, 907, 911, 919, 929, 937, 941, 947, 953, 967, 971, 977, 983, 991, 997]\n"
     ]
    }
   ],
   "source": [
    "def prime():\n",
    "    \"\"\"function to get prime numbers from 1 to 1000\"\"\"\n",
    "    l=[]\n",
    "    for i in range (1,1000):\n",
    "        a=0\n",
    "        for j in range(2,i):\n",
    "            if i % j ==0:\n",
    "                a=1\n",
    "        if a != 1:\n",
    "            l.append(i)\n",
    "    return l\n",
    "print (prime())"
   ]
  },
  {
   "cell_type": "markdown",
   "id": "e1151e41",
   "metadata": {},
   "source": [
    "### Q2: Try to write a function which  is equivalent  to print function in python"
   ]
  },
  {
   "cell_type": "code",
   "execution_count": 2,
   "id": "c16df0c6",
   "metadata": {},
   "outputs": [
    {
     "data": {
      "text/plain": [
       "(2, 'sa', (2, 6), [5, 8], {'a': 5})"
      ]
     },
     "execution_count": 2,
     "metadata": {},
     "output_type": "execute_result"
    }
   ],
   "source": [
    "def myprint(*s):\n",
    "    \"\"\"function to replicte print function\"\"\"\n",
    "    for i in s:\n",
    "        return s\n",
    "myprint(2,\"sa\",(2,6),[5,8],{\"a\":5})"
   ]
  },
  {
   "cell_type": "markdown",
   "id": "d866a21f",
   "metadata": {},
   "source": [
    "### Q3 : Try to write a function which is a replica of list append , extend and pop function "
   ]
  },
  {
   "cell_type": "code",
   "execution_count": 3,
   "id": "005a056f",
   "metadata": {},
   "outputs": [
    {
     "name": "stdout",
     "output_type": "stream",
     "text": [
      "[2, '5', 5, (5, 6), {'a': 5}, 'sant']\n"
     ]
    }
   ],
   "source": [
    "def list_append(l,*s):\n",
    "    \"\"\"function to replicate list append\"\"\"\n",
    "    if type (l)==list:\n",
    "        for i in s:\n",
    "            l=l+[i]\n",
    "    return l\n",
    "#example\n",
    "print (list_append([2],\"5\",5,(5,6),{\"a\":5},\"sant\"))"
   ]
  },
  {
   "cell_type": "code",
   "execution_count": 4,
   "id": "1fcca256",
   "metadata": {},
   "outputs": [
    {
     "name": "stdout",
     "output_type": "stream",
     "text": [
      "[2, 3, 's', 'a', 'n', 't']\n",
      "[2, 3, 'a', 'b']\n"
     ]
    }
   ],
   "source": [
    "def list_exten(l,s):\n",
    "    \"\"\"function to replicate list extend\"\"\"\n",
    "    if type (l)==list:\n",
    "        for i in s:\n",
    "            if type (i)==(str):\n",
    "                for j in i:\n",
    "                    l=l+[str(j)]\n",
    "            elif type (i)==(list,tuple,set,dict):\n",
    "                for k in i:\n",
    "                    l=l+i[k]\n",
    "    return l\n",
    "#example\n",
    "print (list_exten([2,3],\"sant\"))\n",
    "print (list_exten([2,3],{\"a\":5,\"b\":6}))"
   ]
  },
  {
   "cell_type": "code",
   "execution_count": 5,
   "id": "b6d7d616",
   "metadata": {},
   "outputs": [
    {
     "name": "stdout",
     "output_type": "stream",
     "text": [
      "[3, 6, 8]\n",
      "[2, 3, 8]\n"
     ]
    }
   ],
   "source": [
    "def list_pop(l,index):\n",
    "    \"\"\"function to replicate list pop\"\"\"\n",
    "    if type (l) == list and index !=-1 :\n",
    "        l=l[0:index]+l[index+1:]\n",
    "    else:\n",
    "        l=l[:-1]\n",
    "    return l\n",
    "#example\n",
    "l1=[2,3,6,8]\n",
    "print (list_pop(l1,0))\n",
    "print (list_pop(l1,2))\n"
   ]
  },
  {
   "cell_type": "markdown",
   "id": "6512a2cb",
   "metadata": {},
   "source": [
    "### Q4 : Try to write a lambda function which can return a concatination of all the string that we will pass"
   ]
  },
  {
   "cell_type": "code",
   "execution_count": 6,
   "id": "391b84d2",
   "metadata": {},
   "outputs": [],
   "source": [
    "def conc_str(*a):\n",
    "    \"\"\"joining strings\"\"\"\n",
    "    for i in a:\n",
    "        return \"\".join(a)"
   ]
  },
  {
   "cell_type": "code",
   "execution_count": 7,
   "id": "4f1d8fff",
   "metadata": {},
   "outputs": [],
   "source": [
    "conc_str= lambda *a : \"\".join(i for i in a)"
   ]
  },
  {
   "cell_type": "code",
   "execution_count": 8,
   "id": "092f52d3",
   "metadata": {},
   "outputs": [
    {
     "data": {
      "text/plain": [
       "'abc'"
      ]
     },
     "execution_count": 8,
     "metadata": {},
     "output_type": "execute_result"
    }
   ],
   "source": [
    "conc_str(\"a\",\"b\",\"c\")"
   ]
  },
  {
   "cell_type": "markdown",
   "id": "33e5ba40",
   "metadata": {},
   "source": [
    "### Q5 : Try to write a lambda function which can return list of square of all the data between 1-100 "
   ]
  },
  {
   "cell_type": "code",
   "execution_count": 9,
   "id": "840238e3",
   "metadata": {},
   "outputs": [
    {
     "name": "stdout",
     "output_type": "stream",
     "text": [
      "[0, 1, 4, 9, 16, 25, 36, 49, 64, 81]\n"
     ]
    }
   ],
   "source": [
    "sq=lambda a: [i**2 for i in range(a)]\n",
    "\n",
    "#exmaple for 10\n",
    "print (sq(10))"
   ]
  },
  {
   "cell_type": "markdown",
   "id": "4db89f30",
   "metadata": {},
   "source": [
    "### q6 : Try to write a 10 Different different example of lambda function with a choice of your taks "
   ]
  },
  {
   "cell_type": "markdown",
   "id": "c03a3791",
   "metadata": {},
   "source": [
    "#### 1.filtering even values"
   ]
  },
  {
   "cell_type": "code",
   "execution_count": 10,
   "id": "20522800",
   "metadata": {},
   "outputs": [],
   "source": [
    "def eve(*s):\n",
    "    \"\"\"filtering even values\"\"\"\n",
    "    l=[]\n",
    "    for i in s:\n",
    "        if i%2==0:\n",
    "            l.append(i)\n",
    "    return l"
   ]
  },
  {
   "cell_type": "code",
   "execution_count": 11,
   "id": "5fa93291",
   "metadata": {},
   "outputs": [
    {
     "data": {
      "text/plain": [
       "[2, 6]"
      ]
     },
     "execution_count": 11,
     "metadata": {},
     "output_type": "execute_result"
    }
   ],
   "source": [
    "even=lambda *a:[i for i in a if i%2==0]\n",
    "even(2,3,5,6)"
   ]
  },
  {
   "cell_type": "markdown",
   "id": "b3cee453",
   "metadata": {},
   "source": [
    "### 2.get squares and cubes in a dictionary"
   ]
  },
  {
   "cell_type": "code",
   "execution_count": 12,
   "id": "a46ab636",
   "metadata": {},
   "outputs": [],
   "source": [
    "l1=[]\n",
    "l2=[]\n",
    "def sq_cu(*a):\n",
    "    \"\"\"sqaure and cube of given numbersrepeats values specific no. of times for string, 2nd parameter should be integer\"\"\"\n",
    "    for i in a:\n",
    "        l1.append(i**2)\n",
    "        l2.append(i**3)\n",
    "    return (\"square\", l1,\"cube\", l2)"
   ]
  },
  {
   "cell_type": "code",
   "execution_count": 13,
   "id": "242d3624",
   "metadata": {},
   "outputs": [
    {
     "data": {
      "text/plain": [
       "{'square': [16, 25, 36], 'cube': [64, 125, 216]}"
      ]
     },
     "execution_count": 13,
     "metadata": {},
     "output_type": "execute_result"
    }
   ],
   "source": [
    "sqa_cub= lambda *a: {\"square\":[i**2 for i in a], \"cube\": [i**3 for i in a]}\n",
    "sqa_cub(4,5,6)"
   ]
  },
  {
   "cell_type": "markdown",
   "id": "41578f77",
   "metadata": {},
   "source": [
    "### 3. repeats values specific no. of times for string, 2nd parameter should be integer"
   ]
  },
  {
   "cell_type": "code",
   "execution_count": 14,
   "id": "86d95199",
   "metadata": {},
   "outputs": [],
   "source": [
    "def repeat(a,b):\n",
    "    \"\"\"repeating strings for the given number\"\"\"\n",
    "    l=[]\n",
    "    for i in a:\n",
    "        for j in range(1,b+1):\n",
    "            l.append(i*j)\n",
    "    return l"
   ]
  },
  {
   "cell_type": "code",
   "execution_count": 15,
   "id": "d75d45a2",
   "metadata": {},
   "outputs": [
    {
     "data": {
      "text/plain": [
       "['x', 'xx', 'xxx', 'xxxx', 'xxxxx', 'y', 'yy', 'yyy', 'yyyy', 'yyyyy']"
      ]
     },
     "execution_count": 15,
     "metadata": {},
     "output_type": "execute_result"
    }
   ],
   "source": [
    "repeat_l= lambda a,b : [i*j for i in a for j in range(1,b+1)]\n",
    "repeat_l([\"x\",\"y\"],5)"
   ]
  },
  {
   "cell_type": "markdown",
   "id": "1c49c21e",
   "metadata": {},
   "source": [
    "### 4. removes duplicate values and returns ordered list"
   ]
  },
  {
   "cell_type": "code",
   "execution_count": 16,
   "id": "bf42401b",
   "metadata": {},
   "outputs": [],
   "source": [
    "def rem_dup(a):\n",
    "    \"\"\"set is used to remove duplicate values\"\"\"\n",
    "    b=list(set(a))\n",
    "    return b"
   ]
  },
  {
   "cell_type": "code",
   "execution_count": 17,
   "id": "e093cc28",
   "metadata": {},
   "outputs": [
    {
     "data": {
      "text/plain": [
       "[2, 3, 4, 5, 'as', 2.345]"
      ]
     },
     "execution_count": 17,
     "metadata": {},
     "output_type": "execute_result"
    }
   ],
   "source": [
    "rem_du = lambda a : list(set(a))\n",
    "rem_du([4,3,2,5,3,4,3,\"as\",2.345])"
   ]
  },
  {
   "cell_type": "markdown",
   "id": "970c39ad",
   "metadata": {},
   "source": [
    "### 5. returns index of vowels in a string."
   ]
  },
  {
   "cell_type": "code",
   "execution_count": 18,
   "id": "6dcd9927",
   "metadata": {},
   "outputs": [],
   "source": [
    "def vow(b):\n",
    "    \"\"\"index of vowels\"\"\"\n",
    "    l=[]\n",
    "    for i in range(len(b)):\n",
    "        if b[i].lower() in \"aeiou\":\n",
    "            l.append(i)\n",
    "    return (l)\n",
    "#b[i].lower is used convert the specific alphabet to lower case if it is in uppercase\n",
    "# in \"aeiou\" is nothing but \"a\" or \"e\" or \"i\" or \"o\" or \"u\""
   ]
  },
  {
   "cell_type": "code",
   "execution_count": 19,
   "id": "07a5209a",
   "metadata": {},
   "outputs": [
    {
     "data": {
      "text/plain": [
       "[1, 4, 8]"
      ]
     },
     "execution_count": 19,
     "metadata": {},
     "output_type": "execute_result"
    }
   ],
   "source": [
    "vowels= lambda a : [i for i in range(len(a)) if a[i].lower() in \"aeiou\"]\n",
    "vowels(\"hello wrold\")"
   ]
  },
  {
   "cell_type": "markdown",
   "id": "93a6e442",
   "metadata": {},
   "source": [
    "### 6. returns index where a string contains sub-string "
   ]
  },
  {
   "cell_type": "code",
   "execution_count": 20,
   "id": "7acdfd6c",
   "metadata": {},
   "outputs": [],
   "source": [
    "def su(a,b):\n",
    "    \"\"\"getting index of specific word in a given string\"\"\"\n",
    "    l=[]\n",
    "    for i in range(len(a)-1):\n",
    "        if (a[i:i+len(b)])== (b):\n",
    "            l.append(i)\n",
    "    return l"
   ]
  },
  {
   "cell_type": "code",
   "execution_count": 21,
   "id": "ba6f3fb0",
   "metadata": {},
   "outputs": [
    {
     "data": {
      "text/plain": [
       "[10, 16, 21, 32]"
      ]
     },
     "execution_count": 21,
     "metadata": {},
     "output_type": "execute_result"
    }
   ],
   "source": [
    "sub_string= lambda a,b : [i for i in range(len(a)-1) if (a[i:i+len(b)]==b)]\n",
    "sub_string(\"your name is __ is this correct?is \",\"is \")"
   ]
  },
  {
   "cell_type": "markdown",
   "id": "6dce47a8",
   "metadata": {},
   "source": [
    "### 7. convert list containing lists,tuple,set and string to flat list"
   ]
  },
  {
   "cell_type": "code",
   "execution_count": 22,
   "id": "7f7f13b4",
   "metadata": {},
   "outputs": [],
   "source": [
    "def lis(*a):\n",
    "    \"\"\"converting to single list\"\"\"\n",
    "    l=[]\n",
    "    for i in a:\n",
    "        for j in i:\n",
    "            l.append(j)\n",
    "    return l"
   ]
  },
  {
   "cell_type": "code",
   "execution_count": 23,
   "id": "24441e13",
   "metadata": {},
   "outputs": [
    {
     "data": {
      "text/plain": [
       "[1, 2, 3, 'a', 'v', 8, 9]"
      ]
     },
     "execution_count": 23,
     "metadata": {},
     "output_type": "execute_result"
    }
   ],
   "source": [
    "sub_list=lambda *a : [j for i in a for j in i]\n",
    "sub_list([1,2,3],('a','v'),{8,9})"
   ]
  },
  {
   "cell_type": "markdown",
   "id": "022f8ddd",
   "metadata": {},
   "source": [
    "### 8. converts dictionary into list with key:value pair as a single element"
   ]
  },
  {
   "cell_type": "code",
   "execution_count": 24,
   "id": "c8568e26",
   "metadata": {},
   "outputs": [],
   "source": [
    "def dic_li(a):\n",
    "    \"\"\"'key:value' as a single pair\"\"\"\n",
    "    l=[]\n",
    "    for i,j in a.items():\n",
    "        l.append(str(i)+\":\"+str(j))\n",
    "    return l"
   ]
  },
  {
   "cell_type": "code",
   "execution_count": 25,
   "id": "0b9f44a9",
   "metadata": {},
   "outputs": [
    {
     "data": {
      "text/plain": [
       "['k1:sudh', 'k2:ineuron', 'k3:kumar', '3:6', '7:8']"
      ]
     },
     "execution_count": 25,
     "metadata": {},
     "output_type": "execute_result"
    }
   ],
   "source": [
    "dic_lis=lambda a: [str(i)+\":\"+str(j) for i,j in a.items()]\n",
    "dic_lis({'k1': 'sudh', 'k2': 'ineuron', 'k3': 'kumar', 3: 6, 7: 8})"
   ]
  },
  {
   "cell_type": "markdown",
   "id": "03a2aa66",
   "metadata": {},
   "source": [
    "### 9. removes spaces in a string"
   ]
  },
  {
   "cell_type": "code",
   "execution_count": 26,
   "id": "43f360ef",
   "metadata": {},
   "outputs": [],
   "source": [
    "def sp(a):\n",
    "    \"\"\"removing space in the form of list of each word and then joining\"\"\"\n",
    "    b=[]\n",
    "    for i in a:\n",
    "        if i!=\" \":\n",
    "            b.append(i)\n",
    "    return (''.join(b))"
   ]
  },
  {
   "cell_type": "code",
   "execution_count": 27,
   "id": "991d891c",
   "metadata": {},
   "outputs": [],
   "source": [
    "def spl(a):\n",
    "    b=[]\n",
    "    for i in a:\n",
    "        if i!=\" \":\n",
    "            b.append(i)\n",
    "    return (b)"
   ]
  },
  {
   "cell_type": "code",
   "execution_count": 28,
   "id": "aa8f40ee",
   "metadata": {},
   "outputs": [
    {
     "data": {
      "text/plain": [
       "['h', 'e', 'l', 'l', 'o', 'h', 'o', 'w', 'a', 'r', 'e', 'y', 'o', 'u']"
      ]
     },
     "execution_count": 28,
     "metadata": {},
     "output_type": "execute_result"
    }
   ],
   "source": [
    "spl(\"hello how are you\")"
   ]
  },
  {
   "cell_type": "code",
   "execution_count": 29,
   "id": "a3d01760",
   "metadata": {},
   "outputs": [
    {
     "data": {
      "text/plain": [
       "'hellohowareyou'"
      ]
     },
     "execution_count": 29,
     "metadata": {},
     "output_type": "execute_result"
    }
   ],
   "source": [
    "\"\".join(spl(\"hello how are you\"))"
   ]
  },
  {
   "cell_type": "code",
   "execution_count": 30,
   "id": "427bde6f",
   "metadata": {},
   "outputs": [
    {
     "data": {
      "text/plain": [
       "'hellohowareyou'"
      ]
     },
     "execution_count": 30,
     "metadata": {},
     "output_type": "execute_result"
    }
   ],
   "source": [
    "rem=lambda a: ''.join([i for i in a if i!=\" \"])\n",
    "rem(\"hello how are you\")"
   ]
  },
  {
   "cell_type": "code",
   "execution_count": 31,
   "id": "f752a085",
   "metadata": {},
   "outputs": [
    {
     "data": {
      "text/plain": [
       "'hellohowareyou'"
      ]
     },
     "execution_count": 31,
     "metadata": {},
     "output_type": "execute_result"
    }
   ],
   "source": [
    "#same thing using lambda in different method\n",
    "remove_space=lambda a : a.replace(\" \",\"\")\n",
    "remove_space(\"hello how are you\")"
   ]
  },
  {
   "cell_type": "code",
   "execution_count": null,
   "id": "03fb6f24",
   "metadata": {},
   "outputs": [],
   "source": []
  }
 ],
 "metadata": {
  "kernelspec": {
   "display_name": "Python 3 (ipykernel)",
   "language": "python",
   "name": "python3"
  },
  "language_info": {
   "codemirror_mode": {
    "name": "ipython",
    "version": 3
   },
   "file_extension": ".py",
   "mimetype": "text/x-python",
   "name": "python",
   "nbconvert_exporter": "python",
   "pygments_lexer": "ipython3",
   "version": "3.9.12"
  }
 },
 "nbformat": 4,
 "nbformat_minor": 5
}
